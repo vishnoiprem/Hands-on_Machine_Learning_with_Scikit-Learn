{
 "cells": [
  {
   "cell_type": "code",
   "execution_count": 2,
   "metadata": {},
   "outputs": [
    {
     "name": "stderr",
     "output_type": "stream",
     "text": [
      "/Users/vishnoiprem/anaconda3/lib/python3.6/importlib/_bootstrap.py:219: RuntimeWarning: numpy.ufunc size changed, may indicate binary incompatibility. Expected 192 from C header, got 216 from PyObject\n",
      "  return f(*args, **kwds)\n"
     ]
    }
   ],
   "source": [
    "import sklearn.datasets as datasets"
   ]
  },
  {
   "cell_type": "code",
   "execution_count": 5,
   "metadata": {},
   "outputs": [],
   "source": [
    "iris= datasets.load_iris()"
   ]
  },
  {
   "cell_type": "code",
   "execution_count": 7,
   "metadata": {},
   "outputs": [
    {
     "name": "stdout",
     "output_type": "stream",
     "text": [
      "iris data set size is(150, 4) \n"
     ]
    }
   ],
   "source": [
    "print(\"iris data set size is{} \".format(iris.data.shape))"
   ]
  },
  {
   "cell_type": "code",
   "execution_count": 8,
   "metadata": {},
   "outputs": [
    {
     "name": "stdout",
     "output_type": "stream",
     "text": [
      "iris data target  size is(150,) \n"
     ]
    }
   ],
   "source": [
    "print(\"iris data target  size is{} \".format(iris.target.shape))"
   ]
  },
  {
   "cell_type": "code",
   "execution_count": 9,
   "metadata": {},
   "outputs": [
    {
     "name": "stdout",
     "output_type": "stream",
     "text": [
      "iris data has 4 features, the feature names are ['sepal length (cm)', 'sepal width (cm)', 'petal length (cm)', 'petal width (cm)']\n"
     ]
    }
   ],
   "source": [
    "print(\"iris data has {} features, the feature names are {}\".format(iris.data.shape[1], iris.feature_names))\n"
   ]
  },
  {
   "cell_type": "code",
   "execution_count": 10,
   "metadata": {},
   "outputs": [
    {
     "name": "stdout",
     "output_type": "stream",
     "text": [
      "iris data has 4 samples, the target label names ['setosa' 'versicolor' 'virginica']\n"
     ]
    }
   ],
   "source": [
    "print(\"iris data has {} samples, the target label names {}\".format(iris.data.shape[1], iris.target_names))\n"
   ]
  },
  {
   "cell_type": "code",
   "execution_count": 11,
   "metadata": {},
   "outputs": [
    {
     "data": {
      "text/plain": [
       "(array([[-1.64011948,  0.96154233],\n",
       "        [-0.25446645,  1.05094383],\n",
       "        [-0.46303813, -0.89424948],\n",
       "        [ 0.13381801,  0.78550243],\n",
       "        [ 0.60288253,  0.53464625],\n",
       "        [ 0.44841622,  1.26587917],\n",
       "        [-0.18029139, -0.85930137],\n",
       "        [-0.04045108, -0.61985833],\n",
       "        [-0.32741242,  1.36762455],\n",
       "        [ 1.10974688,  2.034515  ],\n",
       "        [-0.61170347, -0.74855697],\n",
       "        [ 1.0836828 , -1.54822263],\n",
       "        [ 1.18381571, -1.07134164],\n",
       "        [ 0.76870499,  1.6106299 ],\n",
       "        [ 0.79290888,  1.28551391],\n",
       "        [ 0.02885269, -1.27092026],\n",
       "        [ 0.60461717, -0.98088616],\n",
       "        [-0.43165282, -0.79905009],\n",
       "        [-0.6915565 , -0.34904218],\n",
       "        [ 0.70950662, -0.62519229],\n",
       "        [ 1.07425034,  1.07307211],\n",
       "        [ 0.97130401, -1.28362616],\n",
       "        [ 0.5627306 ,  1.70964515],\n",
       "        [-0.33663458, -1.12008797],\n",
       "        [-2.32939257,  0.76406748],\n",
       "        [ 0.23282026, -0.26849003],\n",
       "        [-0.77415277, -1.29139984],\n",
       "        [-1.13637588,  0.44398512],\n",
       "        [-0.16103601, -0.73839698],\n",
       "        [-0.98280412,  0.96489592],\n",
       "        [-0.14548948, -0.29315329],\n",
       "        [ 0.95320895, -0.96636996],\n",
       "        [-0.29572668, -1.44216582],\n",
       "        [-1.60458545,  0.28693589],\n",
       "        [-0.21939883, -0.43321354],\n",
       "        [-0.42101513,  0.74331113],\n",
       "        [-0.77835971,  0.68967872],\n",
       "        [-1.07604076, -0.76378546],\n",
       "        [ 0.06807863,  0.08696953],\n",
       "        [-0.9514732 ,  2.30051185],\n",
       "        [-1.69165988,  0.51768004],\n",
       "        [ 1.32570135, -0.97613696],\n",
       "        [ 0.49642126,  1.29843916],\n",
       "        [ 0.45988094, -0.92821583],\n",
       "        [-0.80441849, -1.16974719],\n",
       "        [ 0.7777913 , -0.23648639],\n",
       "        [ 0.03067716,  1.37855118],\n",
       "        [ 0.68506179, -0.52599733],\n",
       "        [-2.57229029,  1.80370956],\n",
       "        [ 1.26097349, -1.07054583],\n",
       "        [-1.7739197 , -1.20488903],\n",
       "        [-0.46100783, -0.92340174],\n",
       "        [-0.97108489, -1.43525143],\n",
       "        [ 0.90034914,  1.03412141],\n",
       "        [-0.50511697,  1.02632768],\n",
       "        [ 0.72124173,  0.83056547],\n",
       "        [ 0.77223673, -1.34957803],\n",
       "        [ 0.0764677 ,  0.92642524],\n",
       "        [-0.06597201,  1.36055269],\n",
       "        [ 0.54498069,  1.41163039],\n",
       "        [ 0.0154334 ,  0.46012013],\n",
       "        [-0.26126565,  0.95799394],\n",
       "        [ 0.24847683, -1.21736373],\n",
       "        [ 1.49843686,  1.68054322],\n",
       "        [-1.44052248,  2.11800969],\n",
       "        [ 0.10610572, -0.79723011],\n",
       "        [ 0.20785064,  0.5349785 ],\n",
       "        [-1.06326653,  1.22689827],\n",
       "        [ 0.38835166, -1.0810547 ],\n",
       "        [-0.86761978,  0.41642113],\n",
       "        [ 0.55855149, -0.7873219 ],\n",
       "        [ 0.41664886,  1.54980642],\n",
       "        [-1.31295816, -0.50491573],\n",
       "        [-0.27963449,  0.27004133],\n",
       "        [-0.30578741, -0.78896762],\n",
       "        [ 1.2618622 , -1.3673352 ],\n",
       "        [-0.24259024, -0.05797902],\n",
       "        [ 0.56306322, -1.06321253],\n",
       "        [-1.02790975, -1.04480539],\n",
       "        [ 0.96780763, -1.51145342],\n",
       "        [-1.21974322, -0.6850079 ],\n",
       "        [ 0.12401698, -0.89952082],\n",
       "        [ 1.16709126,  0.81169962],\n",
       "        [ 0.82057562, -0.8148444 ],\n",
       "        [ 0.25765912,  0.65010957],\n",
       "        [ 0.227253  ,  1.4073701 ],\n",
       "        [-0.73269716, -1.06058238],\n",
       "        [-1.50345524,  0.89807338],\n",
       "        [ 1.41408921,  0.63966538],\n",
       "        [-0.35210517,  0.50714098],\n",
       "        [ 0.27732414, -0.98627661],\n",
       "        [-0.06925996, -1.45937815],\n",
       "        [-1.55382659,  0.16708256],\n",
       "        [-0.22892057,  2.50503229],\n",
       "        [ 0.46927878, -1.1976378 ],\n",
       "        [ 0.22603018, -1.14037937],\n",
       "        [ 0.59968428,  0.90234145],\n",
       "        [-0.27109764, -1.59357083],\n",
       "        [-0.58676684, -0.65693872],\n",
       "        [-1.56366583,  0.97117001]]),\n",
       " array([1, 1, 0, 1, 1, 1, 0, 0, 1, 1, 0, 0, 0, 1, 1, 0, 0, 0, 0, 0, 1, 0,\n",
       "        1, 0, 1, 1, 0, 1, 0, 1, 0, 0, 0, 1, 0, 1, 1, 0, 0, 1, 1, 0, 1, 0,\n",
       "        0, 1, 1, 0, 1, 0, 0, 0, 0, 1, 1, 1, 0, 1, 1, 1, 1, 1, 0, 1, 1, 0,\n",
       "        1, 1, 0, 1, 0, 1, 0, 1, 0, 0, 1, 0, 0, 0, 0, 0, 1, 0, 1, 1, 0, 1,\n",
       "        1, 1, 0, 0, 1, 1, 0, 0, 0, 0, 0, 1]))"
      ]
     },
     "execution_count": 11,
     "metadata": {},
     "output_type": "execute_result"
    }
   ],
   "source": [
    "datasets.make_classification(n_features=2, n_redundant=0, n_informative=1, n_clusters_per_class=1)"
   ]
  },
  {
   "cell_type": "code",
   "execution_count": 12,
   "metadata": {},
   "outputs": [],
   "source": [
    "X,y=datasets.make_classification(n_features=2, n_redundant=0, n_informative=1, n_clusters_per_class=1)"
   ]
  },
  {
   "cell_type": "code",
   "execution_count": 13,
   "metadata": {},
   "outputs": [
    {
     "name": "stdout",
     "output_type": "stream",
     "text": [
      " the data x shape is (100, 2)\n"
     ]
    }
   ],
   "source": [
    "print( \" the data x shape is {}\".format(X.shape))"
   ]
  },
  {
   "cell_type": "code",
   "execution_count": 15,
   "metadata": {},
   "outputs": [
    {
     "name": "stdout",
     "output_type": "stream",
     "text": [
      " the data y shape is (100,)\n"
     ]
    }
   ],
   "source": [
    "print( \" the data y shape is {}\".format(y.shape))"
   ]
  },
  {
   "cell_type": "code",
   "execution_count": 16,
   "metadata": {},
   "outputs": [],
   "source": [
    "import matplotlib.pyplot as plt\n"
   ]
  },
  {
   "cell_type": "code",
   "execution_count": 35,
   "metadata": {},
   "outputs": [],
   "source": [
    "axe.scatter(X[:,0], X[:,1], c=y, marker = 'o')\n",
    "axe.set_title(\"Data generated from make_classification\")\n",
    "fig.savefig(\"../data/img.png\")\n",
    "plt.close(fig)"
   ]
  },
  {
   "cell_type": "code",
   "execution_count": 36,
   "metadata": {},
   "outputs": [
    {
     "name": "stdout",
     "output_type": "stream",
     "text": [
      "The regression data X shape is (100, 1)\n",
      "The regression data y shape is (100,)\n"
     ]
    }
   ],
   "source": [
    "X, y = datasets.make_regression(n_features=1, n_informative=1)\n",
    "print(\"The regression data X shape is {}\".format(X.shape))\n",
    "print(\"The regression data y shape is {}\".format(y.shape))"
   ]
  },
  {
   "cell_type": "code",
   "execution_count": null,
   "metadata": {},
   "outputs": [],
   "source": []
  }
 ],
 "metadata": {
  "kernelspec": {
   "display_name": "Python 3",
   "language": "python",
   "name": "python3"
  },
  "language_info": {
   "codemirror_mode": {
    "name": "ipython",
    "version": 3
   },
   "file_extension": ".py",
   "mimetype": "text/x-python",
   "name": "python",
   "nbconvert_exporter": "python",
   "pygments_lexer": "ipython3",
   "version": "3.6.10"
  }
 },
 "nbformat": 4,
 "nbformat_minor": 4
}
