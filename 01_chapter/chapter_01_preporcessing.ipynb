{
 "cells": [
  {
   "cell_type": "code",
   "execution_count": 1,
   "metadata": {},
   "outputs": [
    {
     "name": "stderr",
     "output_type": "stream",
     "text": [
      "/Users/vishnoiprem/anaconda3/lib/python3.6/importlib/_bootstrap.py:219: RuntimeWarning: numpy.ufunc size changed, may indicate binary incompatibility. Expected 192 from C header, got 216 from PyObject\n",
      "  return f(*args, **kwds)\n"
     ]
    }
   ],
   "source": [
    "import sklearn.preprocessing as preprocessing"
   ]
  },
  {
   "cell_type": "code",
   "execution_count": 3,
   "metadata": {},
   "outputs": [],
   "source": [
    "minmax=preprocessing.MinMaxScaler()"
   ]
  },
  {
   "cell_type": "code",
   "execution_count": 9,
   "metadata": {},
   "outputs": [
    {
     "name": "stdout",
     "output_type": "stream",
     "text": [
      "[[7 9]\n",
      " [3 2]\n",
      " [3 5]\n",
      " [5 7]]\n",
      "The original matrix\n",
      "[[   7    9 9762 6896]\n",
      " [   3    2 4721 6377]\n",
      " [   3    5 5956 2271]\n",
      " [   5    7 6068 5339]]\n"
     ]
    }
   ],
   "source": [
    "import sklearn.preprocessing as preprocessing\n",
    "import numpy as np\n",
    "\n",
    "X = np.random.randint(2, 10, size=(4, 2))\n",
    "print(X)\n",
    "X2 = np.random.randint(100, 10000, size=(4, 2))\n",
    "X = np.concatenate((X, X2), axis=1)\n",
    "print(\"The original matrix\")\n",
    "print(X)\n",
    "\n",
    "#### min-max scaler\n",
    "\n"
   ]
  },
  {
   "cell_type": "code",
   "execution_count": 8,
   "metadata": {},
   "outputs": [
    {
     "name": "stdout",
     "output_type": "stream",
     "text": [
      "The transform data using min-max scaler\n",
      "[[0.4        1.         0.05835308 1.        ]\n",
      " [0.         0.14285714 0.98341232 0.80440508]\n",
      " [1.         0.         0.         0.        ]\n",
      " [0.6        0.         1.         0.93583912]]\n"
     ]
    }
   ],
   "source": [
    "minmax = preprocessing.MinMaxScaler()\n",
    "minmax.fit(X)\n",
    "X_minmax = minmax.transform(X)\n",
    "print(\"The transform data using min-max scaler\")\n",
    "print(X_minmax)"
   ]
  },
  {
   "cell_type": "code",
   "execution_count": 10,
   "metadata": {},
   "outputs": [],
   "source": [
    "# \\frac{x_i-min(x)}{max(x) - min(x)}\n",
    "# ​max(x)−min(x)\n",
    "# ​\n",
    "# ​x\n",
    "# ​i\n",
    "# ​​ −min(x)\n",
    "# ​​"
   ]
  },
  {
   "cell_type": "code",
   "execution_count": 11,
   "metadata": {},
   "outputs": [],
   "source": [
    "# Standard #\n",
    "# This scaler assumes that your feature is following the normal distribution. The mean and standard deviation are calculated on the feature you want to scale and then the following scaling function is applied.\n",
    "\n",
    "# \\frac{x_i-mean(x)}{stdev(x)}\n",
    "# ​stdev(x)\n",
    "# ​\n",
    "# ​x\n",
    "# ​i\n",
    "# ​​ −mean(x)\n",
    "# ​​"
   ]
  },
  {
   "cell_type": "code",
   "execution_count": 12,
   "metadata": {},
   "outputs": [
    {
     "name": "stdout",
     "output_type": "stream",
     "text": [
      "The original matrix\n",
      "[[   4    7 8110 8046]\n",
      " [   2    9  283 8305]\n",
      " [   9    7 8788 9084]\n",
      " [   4    8 8737 2763]]\n",
      "The transform data using Standard scaler\n",
      "[[-0.29002095 -0.90453403  0.45449479  0.39794342]\n",
      " [-1.06341014  1.50755672 -1.72724745  0.50137277]\n",
      " [ 1.64345203 -0.90453403  0.64348435  0.81245949]\n",
      " [-0.29002095  0.30151134  0.62926832 -1.71177567]]\n"
     ]
    }
   ],
   "source": [
    "import sklearn.preprocessing as preprocessing\n",
    "import numpy as np\n",
    "\n",
    "X = np.random.randint(2, 10, size=(4, 2))\n",
    "X2 = np.random.randint(100, 10000, size=(4, 2))\n",
    "X = np.concatenate((X, X2), axis=1)\n",
    "print(\"The original matrix\")\n",
    "print(X)\n",
    "\n",
    "std = preprocessing.StandardScaler()\n",
    "std.fit(X)\n",
    "X_std = std.transform(X)\n",
    "print(\"The transform data using Standard scaler\")\n",
    "print(X_std)"
   ]
  },
  {
   "cell_type": "code",
   "execution_count": 13,
   "metadata": {},
   "outputs": [
    {
     "name": "stdout",
     "output_type": "stream",
     "text": [
      "The original data\n",
      "[[0.2 0.4 0.9 0.7 0.1 0.8]\n",
      " [0.8 0.1 0.2 0.8 0.1 0.4]]\n",
      "The transform data using Binarizer with threshold 0.7\n",
      "[[0. 0. 1. 0. 0. 1.]\n",
      " [1. 0. 0. 1. 0. 0.]]\n"
     ]
    }
   ],
   "source": [
    "import sklearn.preprocessing as preprocessing\n",
    "import numpy as np\n",
    "\n",
    "Xb = np.array([[0.2, 0.4, 0.9, 0.7, 0.1, 0.8], [0.8, 0.1, 0.2, 0.8, 0.1, 0.4]])\n",
    "binary = preprocessing.Binarizer(threshold=0.7)\n",
    "X_binary = binary.transform(Xb)\n",
    "print(\"The original data\")\n",
    "print(Xb)\n",
    "print(\"The transform data using Binarizer with threshold 0.7\")\n",
    "print(X_binary)"
   ]
  },
  {
   "cell_type": "code",
   "execution_count": 14,
   "metadata": {},
   "outputs": [
    {
     "name": "stdout",
     "output_type": "stream",
     "text": [
      "The original data\n",
      "['Sun' 'Sun' 'Moon' 'Earth' 'Monn' 'Venus']\n",
      "The transform data using LabelEncoder\n",
      "[3 3 2 0 1 4]\n"
     ]
    }
   ],
   "source": [
    "\n",
    "import sklearn.preprocessing as preprocessing\n",
    "import numpy as np\n",
    "\n",
    "targets = np.array([\"Sun\", \"Sun\", \"Moon\", \"Earth\", \"Monn\", \"Venus\"])\n",
    "labelenc = preprocessing.LabelEncoder()\n",
    "labelenc.fit(targets)\n",
    "targets_trans = labelenc.transform(targets)\n",
    "print(\"The original data\")\n",
    "print(targets)\n",
    "print(\"The transform data using LabelEncoder\")\n",
    "print(targets_trans)\n"
   ]
  },
  {
   "cell_type": "code",
   "execution_count": null,
   "metadata": {},
   "outputs": [],
   "source": []
  }
 ],
 "metadata": {
  "kernelspec": {
   "display_name": "Python 3",
   "language": "python",
   "name": "python3"
  },
  "language_info": {
   "codemirror_mode": {
    "name": "ipython",
    "version": 3
   },
   "file_extension": ".py",
   "mimetype": "text/x-python",
   "name": "python",
   "nbconvert_exporter": "python",
   "pygments_lexer": "ipython3",
   "version": "3.6.10"
  }
 },
 "nbformat": 4,
 "nbformat_minor": 4
}
