{
 "cells": [
  {
   "cell_type": "code",
   "execution_count": 1,
   "metadata": {},
   "outputs": [
    {
     "name": "stdout",
     "output_type": "stream",
     "text": [
      "The original data\n",
      "[[0 0 1]\n",
      " [0 1 0]\n",
      " [1 0 0]\n",
      " [0 1 1]\n",
      " [0 1 0]\n",
      " [0 1 1]]\n",
      "The processed data by variance threshold\n",
      "[[0 1]\n",
      " [1 0]\n",
      " [0 0]\n",
      " [1 1]\n",
      " [1 0]\n",
      " [1 1]]\n"
     ]
    }
   ],
   "source": [
    "import sklearn.feature_selection as fs\n",
    "import numpy as np \n",
    "\n",
    "X = np.array([[0, 0, 1], [0, 1, 0], [1, 0, 0], [0, 1, 1], [0, 1, 0], [0, 1,\n",
    "                                                                      1]])\n",
    "var = fs.VarianceThreshold(threshold=0.2)\n",
    "var.fit(X)\n",
    "X_trans = var.transform(X)\n",
    "print(\"The original data\")\n",
    "print(X)\n",
    "print(\"The processed data by variance threshold\")\n",
    "print(X_trans)"
   ]
  },
  {
   "cell_type": "code",
   "execution_count": 2,
   "metadata": {},
   "outputs": [
    {
     "name": "stderr",
     "output_type": "stream",
     "text": [
      "/Users/vishnoiprem/anaconda3/lib/python3.6/site-packages/sklearn/utils/validation.py:71: FutureWarning: Pass k=3 as keyword args. From version 0.25 passing these as positional arguments will result in an error\n",
      "  FutureWarning)\n"
     ]
    }
   ],
   "source": [
    "import sklearn.datasets as datasets\n",
    "\n",
    "X, y = datasets.make_classification(n_samples=300, n_features=10, n_informative=4)\n",
    "# choose the f_classif as the metric and K is 3\n",
    "bk = fs.SelectKBest(fs.f_classif, 3)\n",
    "bk.fit(X, y)\n",
    "X_trans = bk.transform(X)\n"
   ]
  },
  {
   "cell_type": "code",
   "execution_count": 4,
   "metadata": {},
   "outputs": [
    {
     "name": "stderr",
     "output_type": "stream",
     "text": [
      "/Users/vishnoiprem/anaconda3/lib/python3.6/site-packages/sklearn/utils/validation.py:71: FutureWarning: Pass k=1 as keyword args. From version 0.25 passing these as positional arguments will result in an error\n",
      "  FutureWarning)\n",
      "/Users/vishnoiprem/anaconda3/lib/python3.6/site-packages/sklearn/utils/validation.py:71: FutureWarning: Pass k=2 as keyword args. From version 0.25 passing these as positional arguments will result in an error\n",
      "  FutureWarning)\n",
      "/Users/vishnoiprem/anaconda3/lib/python3.6/site-packages/sklearn/utils/validation.py:71: FutureWarning: Pass k=3 as keyword args. From version 0.25 passing these as positional arguments will result in an error\n",
      "  FutureWarning)\n",
      "/Users/vishnoiprem/anaconda3/lib/python3.6/site-packages/sklearn/utils/validation.py:71: FutureWarning: Pass k=4 as keyword args. From version 0.25 passing these as positional arguments will result in an error\n",
      "  FutureWarning)\n",
      "/Users/vishnoiprem/anaconda3/lib/python3.6/site-packages/sklearn/utils/validation.py:71: FutureWarning: Pass k=5 as keyword args. From version 0.25 passing these as positional arguments will result in an error\n",
      "  FutureWarning)\n",
      "/Users/vishnoiprem/anaconda3/lib/python3.6/site-packages/sklearn/utils/validation.py:71: FutureWarning: Pass k=6 as keyword args. From version 0.25 passing these as positional arguments will result in an error\n",
      "  FutureWarning)\n",
      "/Users/vishnoiprem/anaconda3/lib/python3.6/site-packages/sklearn/utils/validation.py:71: FutureWarning: Pass k=7 as keyword args. From version 0.25 passing these as positional arguments will result in an error\n",
      "  FutureWarning)\n",
      "/Users/vishnoiprem/anaconda3/lib/python3.6/site-packages/sklearn/utils/validation.py:71: FutureWarning: Pass k=8 as keyword args. From version 0.25 passing these as positional arguments will result in an error\n",
      "  FutureWarning)\n",
      "/Users/vishnoiprem/anaconda3/lib/python3.6/site-packages/sklearn/utils/validation.py:71: FutureWarning: Pass k=9 as keyword args. From version 0.25 passing these as positional arguments will result in an error\n",
      "  FutureWarning)\n",
      "/Users/vishnoiprem/anaconda3/lib/python3.6/site-packages/sklearn/utils/validation.py:71: FutureWarning: Pass k=10 as keyword args. From version 0.25 passing these as positional arguments will result in an error\n",
      "  FutureWarning)\n",
      "/Users/vishnoiprem/anaconda3/lib/python3.6/site-packages/sklearn/utils/validation.py:71: FutureWarning: Pass k=11 as keyword args. From version 0.25 passing these as positional arguments will result in an error\n",
      "  FutureWarning)\n",
      "/Users/vishnoiprem/anaconda3/lib/python3.6/site-packages/sklearn/utils/validation.py:71: FutureWarning: Pass k=12 as keyword args. From version 0.25 passing these as positional arguments will result in an error\n",
      "  FutureWarning)\n",
      "/Users/vishnoiprem/anaconda3/lib/python3.6/site-packages/sklearn/utils/validation.py:71: FutureWarning: Pass k=13 as keyword args. From version 0.25 passing these as positional arguments will result in an error\n",
      "  FutureWarning)\n",
      "/Users/vishnoiprem/anaconda3/lib/python3.6/site-packages/sklearn/utils/validation.py:71: FutureWarning: Pass k=14 as keyword args. From version 0.25 passing these as positional arguments will result in an error\n",
      "  FutureWarning)\n"
     ]
    }
   ],
   "source": [
    "import sklearn.feature_selection as fs\n",
    "import sklearn.datasets as datasets\n",
    "from sklearn.model_selection import train_test_split\n",
    "from sklearn.linear_model import LogisticRegression\n",
    "import sklearn.metrics as metrics\n",
    "import matplotlib.pyplot as plt\n",
    "\n",
    "X, y = datasets.make_classification(n_samples=500,\n",
    "                                    n_features=20,\n",
    "                                    n_informative=8,\n",
    "                                    random_state=42)\n",
    "\n",
    "f1_list = []\n",
    "for k in range(1, 15):\n",
    "    bk = fs.SelectKBest(fs.f_classif, k)\n",
    "    bk.fit(X, y)\n",
    "    X_trans = bk.transform(X)\n",
    "    train_x, test_x, train_y, test_y = train_test_split(X_trans,\n",
    "                                                        y,\n",
    "                                                        test_size=0.2,\n",
    "                                                        random_state=42)\n",
    "    lr = LogisticRegression()\n",
    "    lr.fit(train_x, train_y)\n",
    "    y_pred = lr.predict(test_x)\n",
    "    f1 = metrics.f1_score(test_y, y_pred)\n",
    "    f1_list.append(f1)\n",
    "\n",
    "fig, axe = plt.subplots(dpi = 300)\n",
    "axe.plot(range(1, 15), f1_list)\n",
    "axe.set_xlabel(\"best k features\")\n",
    "axe.set_ylabel(\"F1-score\")\n",
    "fig.savefig(\"../data/fe_img.png\")\n",
    "plt.close(fig)"
   ]
  },
  {
   "cell_type": "code",
   "execution_count": 5,
   "metadata": {},
   "outputs": [
    {
     "name": "stdout",
     "output_type": "stream",
     "text": [
      "The feature importances of GBDT\n",
      "[0.         0.00493847 0.         0.00910409 0.         0.13488926\n",
      " 0.1601943  0.         0.00134611 0.05031481 0.04073724 0.04862839\n",
      " 0.0078042  0.         0.005109   0.         0.53693415 0.\n",
      " 0.         0.        ]\n",
      "The shape of original data is (500, 20)\n",
      "The shape of transformed data is (500, 4)\n"
     ]
    }
   ],
   "source": [
    "import sklearn.feature_selection as fs\n",
    "import sklearn.datasets as datasets\n",
    "from sklearn.model_selection import train_test_split\n",
    "from sklearn.ensemble import GradientBoostingClassifier\n",
    "import sklearn.metrics as metrics\n",
    "\n",
    "X, y = datasets.make_classification(n_samples=500,\n",
    "                                    n_features=20,\n",
    "                                    n_informative=6,\n",
    "                                    random_state=21)\n",
    "\n",
    "gb = GradientBoostingClassifier(n_estimators=20)\n",
    "gb.fit(X, y)\n",
    "print(\"The feature importances of GBDT\")\n",
    "print(gb.feature_importances_)\n",
    "\n",
    "model = fs.SelectFromModel(gb, prefit=True)\n",
    "X_trans = model.transform(X)\n",
    "print(\"The shape of original data is {}\".format(X.shape))\n",
    "print(\"The shape of transformed data is {}\".format(X_trans.shape))"
   ]
  },
  {
   "cell_type": "code",
   "execution_count": null,
   "metadata": {},
   "outputs": [],
   "source": []
  }
 ],
 "metadata": {
  "kernelspec": {
   "display_name": "Python 3",
   "language": "python",
   "name": "python3"
  },
  "language_info": {
   "codemirror_mode": {
    "name": "ipython",
    "version": 3
   },
   "file_extension": ".py",
   "mimetype": "text/x-python",
   "name": "python",
   "nbconvert_exporter": "python",
   "pygments_lexer": "ipython3",
   "version": "3.6.10"
  }
 },
 "nbformat": 4,
 "nbformat_minor": 4
}
